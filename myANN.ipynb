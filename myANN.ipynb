{
 "cells": [
  {
   "cell_type": "code",
   "execution_count": 92,
   "metadata": {},
   "outputs": [],
   "source": [
    "import torch.nn as nn \n",
    "import torch.nn.functional as f \n",
    "import torch "
   ]
  },
  {
   "cell_type": "code",
   "execution_count": 93,
   "metadata": {},
   "outputs": [],
   "source": [
    "class Model(nn.Module):\n",
    "    def __init__(self,in_properties=4,h1=8,h2=7,out_properties=3) -> None:\n",
    "        super().__init__()\n",
    "        self.con1 = nn.Linear(in_properties,h1)\n",
    "        self.con2 = nn.Linear(h1,h2)\n",
    "        self.end = nn.Linear(h2,out_properties)\n",
    "    def forward(self,x) :\n",
    "        x = f.relu(self.con1(x)) \n",
    "        x = f.relu(self.con2(x))   \n",
    "        x = self.end(x)\n",
    "        return x"
   ]
  },
  {
   "cell_type": "markdown",
   "metadata": {},
   "source": []
  },
  {
   "cell_type": "code",
   "execution_count": 94,
   "metadata": {},
   "outputs": [],
   "source": [
    "torch.manual_seed(41)\n",
    "model = Model()"
   ]
  },
  {
   "cell_type": "code",
   "execution_count": 95,
   "metadata": {},
   "outputs": [
    {
     "name": "stderr",
     "output_type": "stream",
     "text": [
      "C:\\Users\\AUTHENTIC PLUS STORE\\AppData\\Local\\Temp\\ipykernel_11136\\788478103.py:7: FutureWarning: Downcasting behavior in `replace` is deprecated and will be removed in a future version. To retain the old behavior, explicitly call `result.infer_objects(copy=False)`. To opt-in to the future behavior, set `pd.set_option('future.no_silent_downcasting', True)`\n",
      "  my_df[\"variety\"] = my_df[\"variety\"].replace(\"Versicolor\",2.0)\n"
     ]
    }
   ],
   "source": [
    "import pandas as pd \n",
    "url = \"https://gist.githubusercontent.com/netj/8836201/raw/6f9306ad21398ea43cba4f7d537619d0e07d5ae3/iris.csv\"\n",
    "my_df = pd.read_csv(url)\n",
    "my_df.tail()\n",
    "my_df[\"variety\"] = my_df[\"variety\"].replace(\"Virginica\",0.0)\n",
    "my_df[\"variety\"] = my_df[\"variety\"].replace(\"Setosa\",1.0)\n",
    "my_df[\"variety\"] = my_df[\"variety\"].replace(\"Versicolor\",2.0)\n"
   ]
  },
  {
   "cell_type": "code",
   "execution_count": 96,
   "metadata": {},
   "outputs": [
    {
     "name": "stdout",
     "output_type": "stream",
     "text": [
      "[1. 1. 1. 1. 1. 1. 1. 1. 1. 1. 1. 1. 1. 1. 1. 1. 1. 1. 1. 1. 1. 1. 1. 1.\n",
      " 1. 1. 1. 1. 1. 1. 1. 1. 1. 1. 1. 1. 1. 1. 1. 1. 1. 1. 1. 1. 1. 1. 1. 1.\n",
      " 1. 1. 2. 2. 2. 2. 2. 2. 2. 2. 2. 2. 2. 2. 2. 2. 2. 2. 2. 2. 2. 2. 2. 2.\n",
      " 2. 2. 2. 2. 2. 2. 2. 2. 2. 2. 2. 2. 2. 2. 2. 2. 2. 2. 2. 2. 2. 2. 2. 2.\n",
      " 2. 2. 2. 2. 0. 0. 0. 0. 0. 0. 0. 0. 0. 0. 0. 0. 0. 0. 0. 0. 0. 0. 0. 0.\n",
      " 0. 0. 0. 0. 0. 0. 0. 0. 0. 0. 0. 0. 0. 0. 0. 0. 0. 0. 0. 0. 0. 0. 0. 0.\n",
      " 0. 0. 0. 0. 0. 0.]\n"
     ]
    }
   ],
   "source": [
    "X = my_df.drop(\"variety\",axis=1)\n",
    "y = my_df[\"variety\"]\n",
    "X= X.values\n",
    "y = y.values\n",
    "print(y)"
   ]
  },
  {
   "cell_type": "code",
   "execution_count": null,
   "metadata": {},
   "outputs": [],
   "source": []
  },
  {
   "cell_type": "code",
   "execution_count": 97,
   "metadata": {},
   "outputs": [],
   "source": [
    "from sklearn.model_selection import train_test_split"
   ]
  },
  {
   "cell_type": "code",
   "execution_count": 98,
   "metadata": {},
   "outputs": [],
   "source": [
    "X_train, X_test, y_train, y_test = train_test_split(X, y, test_size=0.2, random_state=31)\n",
    "X_train = torch.FloatTensor(X_train)\n",
    "X_test = torch.FloatTensor(X_test)\n",
    "\n"
   ]
  },
  {
   "cell_type": "code",
   "execution_count": 99,
   "metadata": {},
   "outputs": [],
   "source": [
    "y_train = torch.LongTensor(y_train)\n",
    "y_test = torch.LongTensor(y_test)"
   ]
  },
  {
   "cell_type": "code",
   "execution_count": 100,
   "metadata": {},
   "outputs": [],
   "source": [
    "criterion = nn.CrossEntropyLoss()\n",
    "optimizer = torch.optim.Adam(model.parameters(),lr=0.01)\n"
   ]
  },
  {
   "cell_type": "code",
   "execution_count": 101,
   "metadata": {},
   "outputs": [
    {
     "name": "stdout",
     "output_type": "stream",
     "text": [
      "Epoch: 0 and loss: 1.1100109815597534\n",
      "Epoch: 1 and loss: 1.092403531074524\n",
      "Epoch: 2 and loss: 1.0937652587890625\n",
      "Epoch: 3 and loss: 1.088356852531433\n",
      "Epoch: 4 and loss: 1.0782643556594849\n",
      "Epoch: 5 and loss: 1.0640432834625244\n",
      "Epoch: 6 and loss: 1.0572298765182495\n",
      "Epoch: 7 and loss: 1.0492138862609863\n",
      "Epoch: 8 and loss: 1.037291407585144\n",
      "Epoch: 9 and loss: 1.021618127822876\n",
      "Epoch: 10 and loss: 1.0031479597091675\n",
      "Epoch: 11 and loss: 0.9839496612548828\n",
      "Epoch: 12 and loss: 0.9647382497787476\n",
      "Epoch: 13 and loss: 0.9432357549667358\n",
      "Epoch: 14 and loss: 0.9180817008018494\n",
      "Epoch: 15 and loss: 0.8903446793556213\n",
      "Epoch: 16 and loss: 0.8612087368965149\n",
      "Epoch: 17 and loss: 0.8302038311958313\n",
      "Epoch: 18 and loss: 0.7970203757286072\n",
      "Epoch: 19 and loss: 0.7625839114189148\n",
      "Epoch: 20 and loss: 0.727466344833374\n",
      "Epoch: 21 and loss: 0.6930350065231323\n",
      "Epoch: 22 and loss: 0.6599550843238831\n",
      "Epoch: 23 and loss: 0.6279697418212891\n",
      "Epoch: 24 and loss: 0.5971899032592773\n",
      "Epoch: 25 and loss: 0.5680641531944275\n",
      "Epoch: 26 and loss: 0.5404695272445679\n",
      "Epoch: 27 and loss: 0.5145275592803955\n",
      "Epoch: 28 and loss: 0.49067243933677673\n",
      "Epoch: 29 and loss: 0.4679757058620453\n",
      "Epoch: 30 and loss: 0.44655412435531616\n",
      "Epoch: 31 and loss: 0.42656150460243225\n",
      "Epoch: 32 and loss: 0.40840181708335876\n",
      "Epoch: 33 and loss: 0.39038020372390747\n",
      "Epoch: 34 and loss: 0.37402281165122986\n",
      "Epoch: 35 and loss: 0.358651727437973\n",
      "Epoch: 36 and loss: 0.3438671827316284\n",
      "Epoch: 37 and loss: 0.3295416831970215\n",
      "Epoch: 38 and loss: 0.31578776240348816\n",
      "Epoch: 39 and loss: 0.30251508951187134\n",
      "Epoch: 40 and loss: 0.28961125016212463\n",
      "Epoch: 41 and loss: 0.2770656943321228\n",
      "Epoch: 42 and loss: 0.26497188210487366\n",
      "Epoch: 43 and loss: 0.2532286047935486\n",
      "Epoch: 44 and loss: 0.24178218841552734\n",
      "Epoch: 45 and loss: 0.23061643540859222\n",
      "Epoch: 46 and loss: 0.21977835893630981\n",
      "Epoch: 47 and loss: 0.209219291806221\n",
      "Epoch: 48 and loss: 0.19900670647621155\n",
      "Epoch: 49 and loss: 0.18917909264564514\n",
      "Epoch: 50 and loss: 0.17970165610313416\n",
      "Epoch: 51 and loss: 0.17063696682453156\n",
      "Epoch: 52 and loss: 0.16200126707553864\n",
      "Epoch: 53 and loss: 0.15374131500720978\n",
      "Epoch: 54 and loss: 0.1459178328514099\n",
      "Epoch: 55 and loss: 0.13849832117557526\n",
      "Epoch: 56 and loss: 0.13148270547389984\n",
      "Epoch: 57 and loss: 0.12490260601043701\n",
      "Epoch: 58 and loss: 0.11870419234037399\n",
      "Epoch: 59 and loss: 0.11291711032390594\n",
      "Epoch: 60 and loss: 0.10749687999486923\n",
      "Epoch: 61 and loss: 0.10243909806013107\n",
      "Epoch: 62 and loss: 0.09773371368646622\n",
      "Epoch: 63 and loss: 0.09334207326173782\n",
      "Epoch: 64 and loss: 0.08926715701818466\n",
      "Epoch: 65 and loss: 0.08546599000692368\n",
      "Epoch: 66 and loss: 0.08193960785865784\n",
      "Epoch: 67 and loss: 0.07866255939006805\n",
      "Epoch: 68 and loss: 0.07561779767274857\n",
      "Epoch: 69 and loss: 0.07279575616121292\n",
      "Epoch: 70 and loss: 0.07017039507627487\n",
      "Epoch: 71 and loss: 0.06773747503757477\n",
      "Epoch: 72 and loss: 0.065472312271595\n",
      "Epoch: 73 and loss: 0.06337156891822815\n",
      "Epoch: 74 and loss: 0.061415884643793106\n",
      "Epoch: 75 and loss: 0.05959606170654297\n",
      "Epoch: 76 and loss: 0.05790117010474205\n",
      "Epoch: 77 and loss: 0.056317102164030075\n",
      "Epoch: 78 and loss: 0.05483909323811531\n",
      "Epoch: 79 and loss: 0.05345313996076584\n",
      "Epoch: 80 and loss: 0.05215666443109512\n",
      "Epoch: 81 and loss: 0.05094030871987343\n",
      "Epoch: 82 and loss: 0.04979827255010605\n",
      "Epoch: 83 and loss: 0.048724327236413956\n",
      "Epoch: 84 and loss: 0.04771218076348305\n",
      "Epoch: 85 and loss: 0.04675943776965141\n",
      "Epoch: 86 and loss: 0.04585783928632736\n",
      "Epoch: 87 and loss: 0.04500598460435867\n",
      "Epoch: 88 and loss: 0.04419820010662079\n",
      "Epoch: 89 and loss: 0.04343327134847641\n",
      "Epoch: 90 and loss: 0.042706433683633804\n",
      "Epoch: 91 and loss: 0.042015571147203445\n",
      "Epoch: 92 and loss: 0.04135921224951744\n",
      "Epoch: 93 and loss: 0.04073313623666763\n",
      "Epoch: 94 and loss: 0.04013640806078911\n",
      "Epoch: 95 and loss: 0.039565879851579666\n",
      "Epoch: 96 and loss: 0.03902105987071991\n",
      "Epoch: 97 and loss: 0.03849922865629196\n",
      "Epoch: 98 and loss: 0.03799956664443016\n",
      "Epoch: 99 and loss: 0.037520334124565125\n",
      "Epoch: 100 and loss: 0.03706037625670433\n",
      "Epoch: 101 and loss: 0.03661869093775749\n",
      "Epoch: 102 and loss: 0.036193955689668655\n",
      "Epoch: 103 and loss: 0.03578571975231171\n",
      "Epoch: 104 and loss: 0.0353921614587307\n",
      "Epoch: 105 and loss: 0.03501306101679802\n",
      "Epoch: 106 and loss: 0.034646980464458466\n",
      "Epoch: 107 and loss: 0.034293632954359055\n",
      "Epoch: 108 and loss: 0.033951979130506516\n",
      "Epoch: 109 and loss: 0.03362148255109787\n",
      "Epoch: 110 and loss: 0.03330152854323387\n",
      "Epoch: 111 and loss: 0.03299146518111229\n",
      "Epoch: 112 and loss: 0.0326908677816391\n",
      "Epoch: 113 and loss: 0.03239908069372177\n",
      "Epoch: 114 and loss: 0.032115835696458817\n",
      "Epoch: 115 and loss: 0.031840454787015915\n",
      "Epoch: 116 and loss: 0.03157277777791023\n",
      "Epoch: 117 and loss: 0.031312212347984314\n",
      "Epoch: 118 and loss: 0.031058579683303833\n",
      "Epoch: 119 and loss: 0.03081137128174305\n",
      "Epoch: 120 and loss: 0.030570443719625473\n",
      "Epoch: 121 and loss: 0.030335357412695885\n",
      "Epoch: 122 and loss: 0.03010592982172966\n",
      "Epoch: 123 and loss: 0.029881855472922325\n",
      "Epoch: 124 and loss: 0.029662882909178734\n",
      "Epoch: 125 and loss: 0.029448799788951874\n",
      "Epoch: 126 and loss: 0.029239386320114136\n",
      "Epoch: 127 and loss: 0.02903442457318306\n",
      "Epoch: 128 and loss: 0.02883373573422432\n",
      "Epoch: 129 and loss: 0.02863713726401329\n",
      "Epoch: 130 and loss: 0.0284444410353899\n",
      "Epoch: 131 and loss: 0.028255540877580643\n",
      "Epoch: 132 and loss: 0.028070202097296715\n",
      "Epoch: 133 and loss: 0.027888333424925804\n",
      "Epoch: 134 and loss: 0.027709782123565674\n",
      "Epoch: 135 and loss: 0.027534453198313713\n",
      "Epoch: 136 and loss: 0.027362177148461342\n",
      "Epoch: 137 and loss: 0.027192892506718636\n",
      "Epoch: 138 and loss: 0.02702644281089306\n",
      "Epoch: 139 and loss: 0.026862740516662598\n",
      "Epoch: 140 and loss: 0.026701709255576134\n",
      "Epoch: 141 and loss: 0.02654324285686016\n",
      "Epoch: 142 and loss: 0.02638724073767662\n",
      "Epoch: 143 and loss: 0.026233632117509842\n",
      "Epoch: 144 and loss: 0.02608232945203781\n",
      "Epoch: 145 and loss: 0.02593325637280941\n",
      "Epoch: 146 and loss: 0.02578635886311531\n",
      "Epoch: 147 and loss: 0.025641560554504395\n",
      "Epoch: 148 and loss: 0.02549881301820278\n",
      "Epoch: 149 and loss: 0.02535797283053398\n",
      "Epoch: 150 and loss: 0.025219101458787918\n",
      "Epoch: 151 and loss: 0.0250820592045784\n",
      "Epoch: 152 and loss: 0.02494681440293789\n",
      "Epoch: 153 and loss: 0.02481335587799549\n",
      "Epoch: 154 and loss: 0.024681566283106804\n",
      "Epoch: 155 and loss: 0.024551432579755783\n",
      "Epoch: 156 and loss: 0.024422908201813698\n",
      "Epoch: 157 and loss: 0.024295952171087265\n",
      "Epoch: 158 and loss: 0.024170545861124992\n",
      "Epoch: 159 and loss: 0.024046640843153\n",
      "Epoch: 160 and loss: 0.023924177512526512\n",
      "Epoch: 161 and loss: 0.023803111165761948\n",
      "Epoch: 162 and loss: 0.023683438077569008\n",
      "Epoch: 163 and loss: 0.023565076291561127\n",
      "Epoch: 164 and loss: 0.023448020219802856\n",
      "Epoch: 165 and loss: 0.023332251235842705\n",
      "Epoch: 166 and loss: 0.023217733949422836\n",
      "Epoch: 167 and loss: 0.023104434832930565\n",
      "Epoch: 168 and loss: 0.022992311045527458\n",
      "Epoch: 169 and loss: 0.022881360724568367\n",
      "Epoch: 170 and loss: 0.022771557793021202\n",
      "Epoch: 171 and loss: 0.02266283705830574\n",
      "Epoch: 172 and loss: 0.022555239498615265\n",
      "Epoch: 173 and loss: 0.02244868315756321\n",
      "Epoch: 174 and loss: 0.022343190386891365\n",
      "Epoch: 175 and loss: 0.022238703444600105\n",
      "Epoch: 176 and loss: 0.02213522233068943\n",
      "Epoch: 177 and loss: 0.0220327191054821\n",
      "Epoch: 178 and loss: 0.02193116955459118\n",
      "Epoch: 179 and loss: 0.021830575540661812\n",
      "Epoch: 180 and loss: 0.021730883046984673\n",
      "Epoch: 181 and loss: 0.02163209579885006\n",
      "Epoch: 182 and loss: 0.021534210070967674\n",
      "Epoch: 183 and loss: 0.02143716625869274\n",
      "Epoch: 184 and loss: 0.02134099043905735\n",
      "Epoch: 185 and loss: 0.021245645359158516\n",
      "Epoch: 186 and loss: 0.02115112915635109\n",
      "Epoch: 187 and loss: 0.02105739526450634\n",
      "Epoch: 188 and loss: 0.0209644865244627\n",
      "Epoch: 189 and loss: 0.020872341468930244\n",
      "Epoch: 190 and loss: 0.02078096754848957\n",
      "Epoch: 191 and loss: 0.020690353587269783\n",
      "Epoch: 192 and loss: 0.020600471645593643\n",
      "Epoch: 193 and loss: 0.020511310547590256\n",
      "Epoch: 194 and loss: 0.02042286843061447\n",
      "Epoch: 195 and loss: 0.020335132256150246\n",
      "Epoch: 196 and loss: 0.020248079672455788\n",
      "Epoch: 197 and loss: 0.020161697641015053\n",
      "Epoch: 198 and loss: 0.02007596753537655\n",
      "Epoch: 199 and loss: 0.019990915432572365\n"
     ]
    }
   ],
   "source": [
    "epochs = 200\n",
    "losses = []\n",
    "for i in range(epochs):\n",
    "  y_pred = model.forward(X_train) \n",
    "  loss = criterion(y_pred, y_train) \n",
    "  print(f'Epoch: {i} and loss: {loss}')\n",
    "  losses.append(loss.detach().numpy())\n",
    "  optimizer.zero_grad()\n",
    "  loss.backward()\n",
    "  optimizer.step()"
   ]
  },
  {
   "cell_type": "code",
   "execution_count": 102,
   "metadata": {},
   "outputs": [
    {
     "data": {
      "text/plain": [
       "Text(0.5, 0, 'epoch')"
      ]
     },
     "execution_count": 102,
     "metadata": {},
     "output_type": "execute_result"
    },
    {
     "data": {
      "image/png": "[encoded data removed]",
      "text/plain": [
       "<Figure size 640x480 with 1 Axes>"
      ]
     },
     "metadata": {},
     "output_type": "display_data"
    }
   ],
   "source": [
    "import matplotlib.pyplot as pl\n",
    "%matplotlib inline\n",
    "\n",
    "pl.plot(range(epochs),losses)\n",
    "pl.ylabel(\"loss/error\")\n",
    "pl.xlabel(\"epoch\")"
   ]
  },
  {
   "cell_type": "code",
   "execution_count": 103,
   "metadata": {},
   "outputs": [
    {
     "name": "stdout",
     "output_type": "stream",
     "text": [
      "1) actual = Virginica \n",
      "prediction = Virginica\n",
      "\n",
      "2) actual = Setosa \n",
      "prediction = Setosa\n",
      "\n",
      "3) actual = Versicolor \n",
      "prediction = Versicolor\n",
      "\n",
      "4) actual = Virginica \n",
      "prediction = Virginica\n",
      "\n",
      "5) actual = Setosa \n",
      "prediction = Setosa\n",
      "\n",
      "6) actual = Versicolor \n",
      "prediction = Versicolor\n",
      "\n",
      "7) actual = Setosa \n",
      "prediction = Setosa\n",
      "\n",
      "8) actual = Virginica \n",
      "prediction = Virginica\n",
      "\n",
      "9) actual = Versicolor \n",
      "prediction = Versicolor\n",
      "\n",
      "10) actual = Versicolor \n",
      "prediction = Versicolor\n",
      "\n",
      "11) actual = Setosa \n",
      "prediction = Setosa\n",
      "\n",
      "12) actual = Virginica \n",
      "prediction = Virginica\n",
      "\n",
      "13) actual = Setosa \n",
      "prediction = Setosa\n",
      "\n",
      "14) actual = Versicolor \n",
      "prediction = Versicolor\n",
      "\n",
      "15) actual = Setosa \n",
      "prediction = Setosa\n",
      "\n",
      "16) actual = Virginica \n",
      "prediction = Setosa\n",
      "\n",
      "17) actual = Virginica \n",
      "prediction = Setosa\n",
      "\n",
      "18) actual = Virginica \n",
      "prediction = Virginica\n",
      "\n",
      "19) actual = Setosa \n",
      "prediction = Setosa\n",
      "\n",
      "20) actual = Versicolor \n",
      "prediction = Versicolor\n",
      "\n",
      "21) actual = Setosa \n",
      "prediction = Setosa\n",
      "\n",
      "22) actual = Setosa \n",
      "prediction = Setosa\n",
      "\n",
      "23) actual = Versicolor \n",
      "prediction = Versicolor\n",
      "\n",
      "24) actual = Setosa \n",
      "prediction = Setosa\n",
      "\n",
      "25) actual = Virginica \n",
      "prediction = Virginica\n",
      "\n",
      "26) actual = Versicolor \n",
      "prediction = Versicolor\n",
      "\n",
      "27) actual = Virginica \n",
      "prediction = Virginica\n",
      "\n",
      "28) actual = Virginica \n",
      "prediction = Virginica\n",
      "\n",
      "29) actual = Virginica \n",
      "prediction = Virginica\n",
      "\n",
      "30) actual = Virginica \n",
      "prediction = Virginica\n",
      "\n",
      "We got 28 correct your loss was 0.019990915432572365\n"
     ]
    }
   ],
   "source": [
    "\n",
    "    \n",
    "correct = 0\n",
    "with torch.no_grad():\n",
    "  for i, data in enumerate(X_test):\n",
    "    y_val = model.forward(data)\n",
    "    if y_test[i] == 0:\n",
    "      x = \"Setosa\"\n",
    "    elif y_test[i] == 1:\n",
    "      x = 'Versicolor'\n",
    "    else:\n",
    "      x = 'Virginica'\n",
    "    if y_val.argmax().item() == 0:\n",
    "      y = \"Setosa\"\n",
    "    elif y_val.argmax().item() == 1:\n",
    "      y = 'Versicolor'\n",
    "    else:\n",
    "      y = 'Virginica'\n",
    "    print(f\"\"\"{i+1}) actual = {x} \\nprediction = {y}\\n\"\"\")\n",
    "    \n",
    "    # Correct or not\n",
    "    if y_val.argmax().item() == y_test[i]:\n",
    "      correct +=1\n",
    "\n",
    "print(f'We got {correct} correct your loss was {loss}') "
   ]
  },
  {
   "cell_type": "code",
   "execution_count": 118,
   "metadata": {},
   "outputs": [
    {
     "name": "stdout",
     "output_type": "stream",
     "text": [
      "2\n"
     ]
    }
   ],
   "source": [
    "flower = torch.Tensor([7,2,2,2])\n",
    "with torch.no_grad():\n",
    "    print(model.forward(flower).argmax().item())"
   ]
  },
  {
   "cell_type": "code",
   "execution_count": 119,
   "metadata": {},
   "outputs": [],
   "source": [
    "torch.save(model.state_dict(),\"flower_class\")"
   ]
  },
  {
   "cell_type": "code",
   "execution_count": 120,
   "metadata": {},
   "outputs": [
    {
     "name": "stderr",
     "output_type": "stream",
     "text": [
      "C:\\Users\\AUTHENTIC PLUS STORE\\AppData\\Local\\Temp\\ipykernel_11136\\3036615445.py:2: FutureWarning: You are using `torch.load` with `weights_only=False` (the current default value), which uses the default pickle module implicitly. It is possible to construct malicious pickle data which will execute arbitrary code during unpickling (See https://github.com/pytorch/pytorch/blob/main/SECURITY.md#untrusted-models for more details). In a future release, the default value for `weights_only` will be flipped to `True`. This limits the functions that could be executed during unpickling. Arbitrary objects will no longer be allowed to be loaded via this mode unless they are explicitly allowlisted by the user via `torch.serialization.add_safe_globals`. We recommend you start setting `weights_only=True` for any use case where you don't have full control of the loaded file. Please open an issue on GitHub for any issues related to this experimental feature.\n",
      "  new.load_state_dict(torch.load(\"flower_class\"))\n"
     ]
    },
    {
     "data": {
      "text/plain": [
       "Model(\n",
       "  (con1): Linear(in_features=4, out_features=8, bias=True)\n",
       "  (con2): Linear(in_features=8, out_features=7, bias=True)\n",
       "  (end): Linear(in_features=7, out_features=3, bias=True)\n",
       ")"
      ]
     },
     "execution_count": 120,
     "metadata": {},
     "output_type": "execute_result"
    }
   ],
   "source": [
    "new = Model()\n",
    "new.load_state_dict(torch.load(\"flower_class\"))\n",
    "new.eval()\n"
   ]
  }
 ],
 "metadata": {
  "kernelspec": {
   "display_name": "Python 3",
   "language": "python",
   "name": "python3"
  },
  "language_info": {
   "codemirror_mode": {
    "name": "ipython",
    "version": 3
   },
   "file_extension": ".py",
   "mimetype": "text/x-python",
   "name": "python",
   "nbconvert_exporter": "python",
   "pygments_lexer": "ipython3",
   "version": "3.12.4"
  }
 },
 "nbformat": 4,
 "nbformat_minor": 2
}
